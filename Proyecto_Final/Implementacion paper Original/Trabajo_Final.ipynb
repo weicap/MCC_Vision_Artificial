{
  "nbformat": 4,
  "nbformat_minor": 0,
  "metadata": {
    "colab": {
      "provenance": []
    },
    "kernelspec": {
      "name": "python3",
      "display_name": "Python 3"
    },
    "language_info": {
      "name": "python"
    }
  },
  "cells": [
    {
      "cell_type": "markdown",
      "source": [
        "**Trabajo Final**\n",
        "\n",
        "*   Christian Nestor Barriga Marcapura\n",
        "*   Weimar Ccapatinta Huamani"
      ],
      "metadata": {
        "id": "_8vpx-YbQYFM"
      }
    },
    {
      "cell_type": "code",
      "execution_count": 43,
      "metadata": {
        "colab": {
          "base_uri": "https://localhost:8080/"
        },
        "id": "0dC8wDXR9zb5",
        "outputId": "a40fe5ae-105f-4aaa-c9d0-c1c2f65cd60d"
      },
      "outputs": [
        {
          "output_type": "stream",
          "name": "stdout",
          "text": [
            "Epoch 1/10\n",
            "2/2 [==============================] - ETA: 0s - loss: 3.2235 - accuracy: 0.4643"
          ]
        },
        {
          "output_type": "stream",
          "name": "stderr",
          "text": [
            "WARNING:tensorflow:5 out of the last 5 calls to <function Model.make_test_function.<locals>.test_function at 0x7f375f8bbac0> triggered tf.function retracing. Tracing is expensive and the excessive number of tracings could be due to (1) creating @tf.function repeatedly in a loop, (2) passing tensors with different shapes, (3) passing Python objects instead of tensors. For (1), please define your @tf.function outside of the loop. For (2), @tf.function has reduce_retracing=True option that can avoid unnecessary retracing. For (3), please refer to https://www.tensorflow.org/guide/function#controlling_retracing and https://www.tensorflow.org/api_docs/python/tf/function for  more details.\n"
          ]
        },
        {
          "output_type": "stream",
          "name": "stdout",
          "text": [
            "\b\b\b\b\b\b\b\b\b\b\b\b\b\b\b\b\b\b\b\b\b\b\b\b\b\b\b\b\b\b\b\b\b\b\b\b\b\b\b\b\b\b\b\b\b\b\b\b\b\b\b\b\b\b\b\b\b\b\b\b\b\b\b\b\b\b\b\b\b\b\b\b\b\b\b\b\b\b\b\b\r2/2 [==============================] - 7s 3s/step - loss: 3.2235 - accuracy: 0.4643 - val_loss: 6.5188 - val_accuracy: 0.2857\n",
            "Epoch 2/10\n",
            "2/2 [==============================] - 6s 2s/step - loss: 3.4116 - accuracy: 0.5714 - val_loss: 3.6768 - val_accuracy: 0.2857\n",
            "Epoch 3/10\n",
            "2/2 [==============================] - 5s 2s/step - loss: 1.6313 - accuracy: 0.5714 - val_loss: 0.9985 - val_accuracy: 0.2857\n",
            "Epoch 4/10\n",
            "2/2 [==============================] - 6s 3s/step - loss: 0.5767 - accuracy: 0.6786 - val_loss: 0.4524 - val_accuracy: 0.7857\n",
            "Epoch 5/10\n",
            "2/2 [==============================] - 5s 3s/step - loss: 0.6759 - accuracy: 0.6964 - val_loss: 0.5290 - val_accuracy: 0.7143\n",
            "Epoch 6/10\n",
            "2/2 [==============================] - 6s 4s/step - loss: 0.5436 - accuracy: 0.7321 - val_loss: 0.8763 - val_accuracy: 0.7143\n",
            "Epoch 7/10\n",
            "2/2 [==============================] - 6s 3s/step - loss: 0.4990 - accuracy: 0.7679 - val_loss: 0.3970 - val_accuracy: 0.8571\n",
            "Epoch 8/10\n",
            "2/2 [==============================] - 14s 6s/step - loss: 0.5356 - accuracy: 0.7143 - val_loss: 0.4756 - val_accuracy: 0.8571\n",
            "Epoch 9/10\n",
            "2/2 [==============================] - 10s 7s/step - loss: 0.3841 - accuracy: 0.8393 - val_loss: 0.7285 - val_accuracy: 0.7143\n",
            "Epoch 10/10\n",
            "2/2 [==============================] - 7s 3s/step - loss: 0.3283 - accuracy: 0.8929 - val_loss: 0.3673 - val_accuracy: 0.7857\n",
            "1/1 [==============================] - 0s 339ms/step - loss: 0.3673 - accuracy: 0.7857\n",
            "Precisión en el conjunto de prueba: 0.7857142686843872\n"
          ]
        }
      ],
      "source": [
        "import os\n",
        "import cv2\n",
        "import numpy as np\n",
        "from sklearn.model_selection import train_test_split\n",
        "from keras.models import Sequential\n",
        "from keras.layers import Conv2D, MaxPooling2D, Flatten, Dense\n",
        "\n",
        "# Directorios de las imágenes\n",
        "ruta_maligno = 'data/maligno'\n",
        "ruta_benigno = 'data/benigno'\n",
        "\n",
        "# Cargar imágenes malignas\n",
        "imagenes_malignas = []\n",
        "etiquetas_malignas = []\n",
        "for filename in os.listdir(ruta_maligno):\n",
        "    if filename.endswith('.jpg') or filename.endswith('.png'):\n",
        "        img = cv2.imread(os.path.join(ruta_maligno, filename))\n",
        "        if img is not None:\n",
        "            img = cv2.cvtColor(img, cv2.COLOR_BGR2RGB)  # Convertir a RGB\n",
        "            imagenes_malignas.append(img)\n",
        "            etiquetas_malignas.append(1)  # Etiqueta 1 para imágenes malignas\n",
        "\n",
        "# Cargar imágenes benignas\n",
        "imagenes_benignas = []\n",
        "etiquetas_benignas = []\n",
        "for filename in os.listdir(ruta_benigno):\n",
        "    if filename.endswith('.jpg') or filename.endswith('.png'):\n",
        "        img = cv2.imread(os.path.join(ruta_benigno, filename))\n",
        "        if img is not None:\n",
        "            img = cv2.cvtColor(img, cv2.COLOR_BGR2RGB)  # Convertir a RGB\n",
        "            imagenes_benignas.append(img)\n",
        "            etiquetas_benignas.append(0)  # Etiqueta 0 para imágenes benignas\n",
        "\n",
        "# Concatenar y mezclar las imágenes y etiquetas\n",
        "imagenes = np.concatenate((imagenes_malignas, imagenes_benignas), axis=0)\n",
        "etiquetas = np.concatenate((etiquetas_malignas, etiquetas_benignas), axis=0)\n",
        "\n",
        "# Dividir los datos en conjuntos de entrenamiento y prueba\n",
        "X_train, X_test, y_train, y_test = train_test_split(imagenes, etiquetas, test_size=0.2, random_state=42)\n",
        "\n",
        "# Normalizar las imágenes\n",
        "X_train = X_train / 255.0\n",
        "X_test = X_test / 255.0\n",
        "\n",
        "# Construir el modelo de la CNN\n",
        "model = Sequential()\n",
        "model.add(Conv2D(32, (3, 3), activation='relu', input_shape=X_train[0].shape))\n",
        "model.add(MaxPooling2D((2, 2)))\n",
        "model.add(Conv2D(64, (3, 3), activation='relu'))\n",
        "model.add(MaxPooling2D((2, 2)))\n",
        "model.add(Flatten())\n",
        "model.add(Dense(64, activation='relu'))\n",
        "model.add(Dense(1, activation='sigmoid'))\n",
        "\n",
        "# Compilar el modelo\n",
        "model.compile(optimizer='adam', loss='binary_crossentropy', metrics=['accuracy'])\n",
        "\n",
        "# Entrenar el modelo\n",
        "model.fit(X_train, y_train, epochs=10, batch_size=32, validation_data=(X_test, y_test))\n",
        "\n",
        "# Evaluar el modelo en el conjunto de prueba\n",
        "loss, accuracy = model.evaluate(X_test, y_test)\n",
        "print('Precisión en el conjunto de prueba:', accuracy)"
      ]
    },
    {
      "cell_type": "code",
      "source": [
        "# Realizar predicciones en nuevas imágenes\n",
        "imagen_prueba = cv2.imread('data/benigno/29.jpg')\n",
        "imagen_prueba = cv2.cvtColor(imagen_prueba, cv2.COLOR_BGR2RGB)  # Convertir a RGB\n",
        "imagen_prueba = np.expand_dims(imagen_prueba, axis=0)  # Añadir dimensión adicional para el lote\n",
        "\n",
        "# Normalizar la imagen de prueba\n",
        "imagen_prueba = imagen_prueba / 255.0\n",
        "\n",
        "# Realizar la predicción\n",
        "prediccion = model.predict(imagen_prueba)\n",
        "\n",
        "# Obtener la etiqueta correspondiente\n",
        "if prediccion[0][0] > 0.5:\n",
        "    etiqueta = 'maligno'\n",
        "else:\n",
        "    etiqueta = 'benigno'\n",
        "\n",
        "# Mostrar el resultado\n",
        "print('El lunar en la imagen de prueba es:', etiqueta)\n"
      ],
      "metadata": {
        "colab": {
          "base_uri": "https://localhost:8080/"
        },
        "id": "XlgJczYk-E8g",
        "outputId": "c7daa794-6db5-46df-e5ad-9ba7a23425f3"
      },
      "execution_count": 53,
      "outputs": [
        {
          "output_type": "stream",
          "name": "stdout",
          "text": [
            "1/1 [==============================] - 0s 53ms/step\n",
            "El lunar en la imagen de prueba es: benigno\n"
          ]
        }
      ]
    }
  ]
}